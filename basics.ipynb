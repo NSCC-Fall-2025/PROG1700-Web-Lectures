{
 "cells": [
  {
   "cell_type": "code",
   "execution_count": 1,
   "id": "da109cae-1a5a-4716-884d-7ed472cdf7c5",
   "metadata": {},
   "outputs": [
    {
     "name": "stdout",
     "output_type": "stream",
     "text": [
      "Hello World!\n"
     ]
    }
   ],
   "source": [
    "console.log(\"Hello World!\")"
   ]
  },
  {
   "cell_type": "code",
   "execution_count": 2,
   "id": "d162e896-d666-4f71-bdad-82a603adbf8f",
   "metadata": {},
   "outputs": [],
   "source": [
    "// comment\n",
    "// this is something else\n",
    "// this is something descriptive about something\n",
    "\n",
    "/*\n",
    " *\n",
    " *\n",
    " * this is a huge comment that spans\n",
    " * multiple lines and should be used\n",
    " * if the comment is very long\n",
    " *\n",
    " */"
   ]
  },
  {
   "cell_type": "code",
   "execution_count": 3,
   "id": "20f44060-3dfc-47b4-a401-fb9a2d7a6d81",
   "metadata": {},
   "outputs": [
    {
     "name": "stdout",
     "output_type": "stream",
     "text": [
      "Hello World!\n",
      "123\n",
      "Address: 123 Somewhere Dr, Halifax, N.S.\n",
      "\u001b[33m123\u001b[39m\n",
      "Hello\n",
      "World\n"
     ]
    }
   ],
   "source": [
    "// console.log - to display information to the console\n",
    "// any information that helps troubleshoot your programs\n",
    "\n",
    "// simple output\n",
    "console.log(\"Hello World!\");\n",
    "console.log(\"123\");\n",
    "// text inside quotation marks is called a \"string\"\n",
    "console.log(\"Address: 123 Somewhere Dr, Halifax, N.S.\");\n",
    "// integers are types of data that you can do math on\n",
    "console.log(123);\n",
    "// there are some special \"characters\" that perform different actions\n",
    "console.log(\"Hello\\nWorld\");"
   ]
  },
  {
   "cell_type": "code",
   "execution_count": 4,
   "id": "1a163dab-983f-4605-a904-90337160e19f",
   "metadata": {},
   "outputs": [
    {
     "name": "stdin",
     "output_type": "stream",
     "text": [
      "What day of the week is it? Friday\n"
     ]
    },
    {
     "data": {
      "text/plain": [
       "\u001b[32m\"Friday\"\u001b[39m"
      ]
     },
     "execution_count": 4,
     "metadata": {},
     "output_type": "execute_result"
    }
   ],
   "source": [
    "// prompt - used to get input from the user\n",
    "// allows the user to enter in answers to questions\n",
    "// e.g. what day of the week is it? Friday\n",
    "prompt(\"What day of the week is it?\")"
   ]
  },
  {
   "cell_type": "code",
   "execution_count": 5,
   "id": "a5d2dc2c-2477-492f-b027-f7c43ae2ec6a",
   "metadata": {},
   "outputs": [],
   "source": [
    "// variables\n",
    "let name;\n",
    "// naming convention - \"camelCasing\"\n",
    "let dayOfWeek;\n",
    "let happiestDay;\n",
    "let endOfWeek;\n",
    "// bad names for variables\n",
    "let XXXXX_____YYYYY_asdasdasd; // day of the week\n",
    "//let my Name; // invalid name - spaces are not allowed\n",
    "//let 123; // invalid name - can't be all numbers\n",
    "//let :); // invalid name - can only use alphanumeric characters or the underscore"
   ]
  },
  {
   "cell_type": "code",
   "execution_count": 8,
   "id": "b9c497e1-e7ef-4ee2-a3a2-39297a107df6",
   "metadata": {},
   "outputs": [
    {
     "name": "stdin",
     "output_type": "stream",
     "text": [
      "What is the day of the week? Friday\n"
     ]
    },
    {
     "name": "stdout",
     "output_type": "stream",
     "text": [
      "The day of the week is  Friday\n"
     ]
    }
   ],
   "source": [
    "let dayOfWeek = prompt(\"What is the day of the week?\");\n",
    "console.log(\"The day of the week is\", dayOfWeek);"
   ]
  },
  {
   "cell_type": "code",
   "execution_count": 13,
   "id": "8b9b6ab7-5368-4594-a146-63cacb7a00be",
   "metadata": {},
   "outputs": [
    {
     "name": "stdout",
     "output_type": "stream",
     "text": [
      "12345\n",
      "\u001b[33m12345\u001b[39m\n",
      "Data: \u001b[33m12345\u001b[39m 12345 \u001b[33m12.34\u001b[39m\n",
      "Price = $12.34\n"
     ]
    }
   ],
   "source": [
    "// other uses of variables\n",
    "let myNumber = 12345; // integer\n",
    "let myString = \"12345\"; // string\n",
    "console.log(myString);\n",
    "console.log(myNumber);\n",
    "let myDecimal = 12.34; // floating point\n",
    "console.log(\"Data:\", myNumber, myString, myDecimal);\n",
    "console.log(`Price = $${myDecimal}`); // template literal"
   ]
  },
  {
   "cell_type": "code",
   "execution_count": 14,
   "id": "754300d8-fc13-4c65-ac14-3ceac3d45970",
   "metadata": {},
   "outputs": [
    {
     "ename": "ReferenceError",
     "evalue": "notAVariable is not defined",
     "output_type": "error",
     "traceback": [
      "Stack trace:",
      "ReferenceError: notAVariable is not defined",
      "    at <anonymous>:2:13"
     ]
    }
   ],
   "source": [
    "// what if a variable is not \"declared\"?\n",
    "console.log(notAVariable);"
   ]
  },
  {
   "cell_type": "code",
   "execution_count": 15,
   "id": "3ba45230-d78b-4c72-8a2f-6dbe3ad5e888",
   "metadata": {},
   "outputs": [
    {
     "name": "stdout",
     "output_type": "stream",
     "text": [
      "September \u001b[33m19\u001b[39m \u001b[33m2025\u001b[39m\n"
     ]
    }
   ],
   "source": [
    "// Create a script that creates three variables to hold the current day, month and year. \n",
    "// Display the current date using those variables nicely formatted.\n",
    "let day = 19;\n",
    "let month = \"September\";\n",
    "let year = 2025;\n",
    "console.log(month, day, year);"
   ]
  },
  {
   "cell_type": "code",
   "execution_count": 16,
   "id": "feede323-f8f4-45ec-81fd-72e48f88d62a",
   "metadata": {},
   "outputs": [
    {
     "name": "stdin",
     "output_type": "stream",
     "text": [
      "Enter your first name: brian\n",
      "Enter your last name: shewan\n"
     ]
    },
    {
     "name": "stdout",
     "output_type": "stream",
     "text": [
      "brian.shewan@nscc.ca\n"
     ]
    }
   ],
   "source": [
    "// Create a script that asks the user's first name and last name, \n",
    "// then have the script output their email address in the format \n",
    "// `<first name>.<last name>@nscc.ca`\n",
    "let firstName = prompt(\"Enter your first name:\");\n",
    "let lastName = prompt(\"Enter your last name:\");\n",
    "console.log(`${firstName}.${lastName}@nscc.ca`);"
   ]
  },
  {
   "cell_type": "code",
   "execution_count": 6,
   "id": "7537d577-986a-4069-97c8-c01bfdf48213",
   "metadata": {},
   "outputs": [
    {
     "name": "stdout",
     "output_type": "stream",
     "text": [
      "Hello World\n"
     ]
    }
   ],
   "source": [
    "// more about strings\n",
    "let text = \"Hello World!\"; // defining a string variable\n",
    "\n",
    "// concatenating strings\n",
    "\"concatenate \" + \"strings\";\n",
    "text = \"Hello \" + \"World\";\n",
    "text = text + \"!\";\n",
    "\n",
    "let string1 = \"Hello \";\n",
    "let string2 = \"World\";\n",
    "text = string1 + string2;\n",
    "\n",
    "console.log(text);"
   ]
  },
  {
   "cell_type": "code",
   "execution_count": 9,
   "id": "cce8f7cb-935b-4e50-8e72-0b89729c1582",
   "metadata": {},
   "outputs": [
    {
     "name": "stdout",
     "output_type": "stream",
     "text": [
      "5685 Leeds St\n",
      "Price = 123.45\n"
     ]
    }
   ],
   "source": [
    "// concatenate strings and numbers\n",
    "let address = 5685 + \" Leeds St\"\n",
    "console.log(address)\n",
    "let price = \"Price = \" + 123.45\n",
    "console.log(price)"
   ]
  },
  {
   "cell_type": "code",
   "execution_count": 11,
   "id": "7f926a58-5e67-4c92-81f0-c168599c9eef",
   "metadata": {},
   "outputs": [
    {
     "name": "stdout",
     "output_type": "stream",
     "text": [
      "Sum = 12\n",
      "Sum = 3\n"
     ]
    }
   ],
   "source": [
    "// when things can go wrong\n",
    "let answer = \"Sum = \" + 1 + 2;\n",
    "console.log(answer);\n",
    "answer = \"Sum = \" + (1 + 2);\n",
    "console.log(answer);"
   ]
  },
  {
   "cell_type": "code",
   "execution_count": 14,
   "id": "ee005176-62db-4674-bd22-a27678ef6976",
   "metadata": {},
   "outputs": [
    {
     "name": "stdout",
     "output_type": "stream",
     "text": [
      "Total Cost =  1.23\n"
     ]
    }
   ],
   "source": [
    "// variable expansion / template literal\n",
    "let cost = 1.23\n",
    "let text = \"Cost = \"\n",
    "let statement = `Total ${text} ${cost}`\n",
    "console.log(statement)"
   ]
  },
  {
   "cell_type": "code",
   "execution_count": 19,
   "id": "b7095376-5c8e-4dab-9ad1-3f407638861e",
   "metadata": {},
   "outputs": [
    {
     "data": {
      "text/plain": [
       "\u001b[32m\"<h1>Sum = 2</h1>\"\u001b[39m"
      ]
     },
     "execution_count": 19,
     "metadata": {},
     "output_type": "execute_result"
    }
   ],
   "source": [
    "// expression expansion\n",
    "//`${\"hello\" + 666}`\n",
    "`<h1>Sum = ${1 + 1}</h1>`"
   ]
  },
  {
   "cell_type": "code",
   "execution_count": 28,
   "id": "e4596477-60aa-4b5d-bdf9-1bdd41fb3947",
   "metadata": {},
   "outputs": [
    {
     "name": "stdout",
     "output_type": "stream",
     "text": [
      "o\n",
      "dog\n"
     ]
    },
    {
     "data": {
      "text/plain": [
       "\u001b[32m\"lamb\"\u001b[39m"
      ]
     },
     "execution_count": 28,
     "metadata": {},
     "output_type": "execute_result"
    }
   ],
   "source": [
    "// substring\n",
    "\"cat dog mouse\"\n",
    "//123456789\n",
    "let dog = \"cat dog mouse\".substring(4, 7)\n",
    "console.log(dog.substring(1, 2))\n",
    "console.log(dog)\n",
    "let text = \"Mary had a little lamb\"\n",
    "text.substring(18, 22)"
   ]
  },
  {
   "cell_type": "code",
   "execution_count": 26,
   "id": "2256af2f-49ca-4a3a-8125-c6a2fbb70c99",
   "metadata": {},
   "outputs": [
    {
     "data": {
      "text/plain": [
       "\u001b[32m\"-+-+-+-+-+-+-+-+-+-+-+-+-+-+-+-+-+-+-+-+-+-+-+-+-+-+-+-+-+-+\"\u001b[39m"
      ]
     },
     "execution_count": 26,
     "metadata": {},
     "output_type": "execute_result"
    }
   ],
   "source": [
    "// repeat operator\n",
    "\"-+\".repeat(30)"
   ]
  },
  {
   "cell_type": "code",
   "execution_count": 29,
   "id": "9ccc8b28-7367-4733-94d8-cd1152e45a0a",
   "metadata": {},
   "outputs": [],
   "source": [
    "// more about data types\n",
    "\n",
    "// string\n",
    "// - a string of letters, numbers and other characters\n",
    "// - surrounded by double quotation marks\n",
    "// - a template literal (using the `) is also a string\n",
    "\n",
    "// number (integer)\n",
    "// - a whole number\n",
    "// 123, 456\n",
    "\n",
    "// number (decimal, float, double)\n",
    "// - a decimal number\n",
    "// 123.456\n",
    "\n",
    "// boolean\n",
    "// - contains one of two values: True or False\n",
    "// - \"Yes\" or \"No\", 1 or 0"
   ]
  },
  {
   "cell_type": "code",
   "execution_count": 33,
   "id": "74bac896-dd5b-4a21-beff-1496d785e4dc",
   "metadata": {},
   "outputs": [
    {
     "data": {
      "text/plain": [
       "\u001b[32m\"number\"\u001b[39m"
      ]
     },
     "execution_count": 33,
     "metadata": {},
     "output_type": "execute_result"
    }
   ],
   "source": [
    "// determine a type of data\n",
    "typeof \"hello world\"\n",
    "typeof 123.45"
   ]
  },
  {
   "cell_type": "code",
   "execution_count": 45,
   "id": "3fccecf9-3e0b-4e6a-8f2a-8af811849df3",
   "metadata": {},
   "outputs": [
    {
     "data": {
      "text/plain": [
       "\u001b[33mtrue\u001b[39m"
      ]
     },
     "execution_count": 45,
     "metadata": {},
     "output_type": "execute_result"
    }
   ],
   "source": [
    "// you can override TypeScript's \"brain\" to tell it the data type\n",
    "Number(\"123\")\n",
    "String(123)\n",
    "Boolean(0)\n",
    "Boolean(\"False\")"
   ]
  },
  {
   "cell_type": "code",
   "execution_count": 53,
   "id": "06aa08ef-62ae-4fc5-bec3-aced026c1c12",
   "metadata": {},
   "outputs": [
    {
     "name": "stdin",
     "output_type": "stream",
     "text": [
      "Enter a number:  123\n"
     ]
    },
    {
     "data": {
      "text/plain": [
       "\u001b[33m123\u001b[39m"
      ]
     },
     "execution_count": 53,
     "metadata": {},
     "output_type": "execute_result"
    }
   ],
   "source": [
    "// getting input from the user of a particular data type\n",
    "let userInput = prompt(\"Enter a number: \")\n",
    "Number(userInput)"
   ]
  },
  {
   "cell_type": "code",
   "execution_count": 55,
   "id": "eea8accc-578f-48b8-b9cd-64ce0eaa70e8",
   "metadata": {},
   "outputs": [
    {
     "name": "stdin",
     "output_type": "stream",
     "text": [
      "Enter a number:  abc\n"
     ]
    },
    {
     "name": "stdout",
     "output_type": "stream",
     "text": [
      "\u001b[33m0\u001b[39m\n"
     ]
    }
   ],
   "source": [
    "// try to request a different data type instead\n",
    "let userNumber = parseInt(prompt(\"Enter a number: \")) || 0\n",
    "console.log(userNumber)"
   ]
  },
  {
   "cell_type": "code",
   "execution_count": 64,
   "id": "cec531c2-d1ca-48b7-9c97-da0f46f1297b",
   "metadata": {},
   "outputs": [
    {
     "data": {
      "text/plain": [
       "\u001b[33m8\u001b[39m"
      ]
     },
     "execution_count": 64,
     "metadata": {},
     "output_type": "execute_result"
    }
   ],
   "source": [
    "// math\n",
    "1 + 2\n",
    "2 - 1\n",
    "1 * 2\n",
    "4 / 3\n",
    "// long division?\n",
    "// 4 / 3 = 1 R1 (remainder)\n",
    "4 % 3 // modulus division (remainder)\n",
    "2 ** 3 // 2 cubed = 2 x 2 x 2"
   ]
  },
  {
   "cell_type": "code",
   "execution_count": 65,
   "id": "aa2701fc-1f8d-4ac9-8a1c-11cfcb7e1582",
   "metadata": {},
   "outputs": [
    {
     "data": {
      "text/plain": [
       "\u001b[33m248832\u001b[39m"
      ]
     },
     "execution_count": 65,
     "metadata": {},
     "output_type": "execute_result"
    }
   ],
   "source": [
    "// BEDMAS (order of operations)\n",
    "// 2 + (3 * 4) ** 5 - 2\n",
    "// B - Brackets\n",
    "// E - Exponents\n",
    "// D / M - division and multiplication\n",
    "// A / S - addition and subtraction\n",
    "// 2 + 12 ** 5 - 2\n",
    "// 2 + 248832 - 2\n",
    "// 248832\n",
    "2 + (3 * 4) ** 5 - 2"
   ]
  },
  {
   "cell_type": "code",
   "execution_count": 66,
   "id": "3fa7f162-1b68-4c7f-bdd0-705c50869d05",
   "metadata": {},
   "outputs": [
    {
     "data": {
      "text/plain": [
       "\u001b[33m5\u001b[39m"
      ]
     },
     "execution_count": 66,
     "metadata": {},
     "output_type": "execute_result"
    }
   ],
   "source": [
    "// square root\n",
    "25 ** 0.5"
   ]
  },
  {
   "cell_type": "code",
   "execution_count": 67,
   "id": "3c6c588d-cda7-42ff-b501-034ab445cb34",
   "metadata": {},
   "outputs": [
    {
     "data": {
      "text/plain": [
       "\u001b[33m11\u001b[39m"
      ]
     },
     "execution_count": 67,
     "metadata": {},
     "output_type": "execute_result"
    }
   ],
   "source": [
    "// assignment operators\n",
    "let a = 1\n",
    "a = a + 2\n",
    "a += 10\n",
    "a++ // a = a + 1\n",
    "a = a - 1\n",
    "a -= 1\n",
    "a-- // a = a - 1\n",
    "a = a * 1\n",
    "a *= 1\n",
    "a = a / 1\n",
    "a /= 1"
   ]
  },
  {
   "cell_type": "code",
   "execution_count": 75,
   "id": "7e5c46e6-8b64-4b40-94a1-bee1040e6935",
   "metadata": {},
   "outputs": [
    {
     "data": {
      "text/plain": [
       "\u001b[33m3\u001b[39m"
      ]
     },
     "execution_count": 75,
     "metadata": {},
     "output_type": "execute_result"
    }
   ],
   "source": [
    "// math functions\n",
    "Math.pow(2, 3)\n",
    "Math.sqrt(25)\n",
    "Math.PI\n",
    "Math.floor(3.56)\n",
    "Math.ceil(3.45)\n",
    "Math.round(3.45)"
   ]
  },
  {
   "cell_type": "code",
   "execution_count": null,
   "id": "b459e103-7011-4f97-97f5-7277b4ce4eb1",
   "metadata": {},
   "outputs": [],
   "source": []
  }
 ],
 "metadata": {
  "kernelspec": {
   "display_name": "Deno",
   "language": "typescript",
   "name": "deno"
  },
  "language_info": {
   "codemirror_mode": "typescript",
   "file_extension": ".ts",
   "mimetype": "text/x.typescript",
   "name": "typescript",
   "nbconvert_exporter": "script",
   "pygments_lexer": "typescript",
   "version": "5.9.2"
  }
 },
 "nbformat": 4,
 "nbformat_minor": 5
}
