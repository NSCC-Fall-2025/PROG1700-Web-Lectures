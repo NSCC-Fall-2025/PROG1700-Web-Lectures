{
 "cells": [
  {
   "cell_type": "code",
   "execution_count": 1,
   "id": "da109cae-1a5a-4716-884d-7ed472cdf7c5",
   "metadata": {},
   "outputs": [
    {
     "name": "stdout",
     "output_type": "stream",
     "text": [
      "Hello World!\n"
     ]
    }
   ],
   "source": [
    "console.log(\"Hello World!\")"
   ]
  },
  {
   "cell_type": "code",
   "execution_count": 2,
   "id": "d162e896-d666-4f71-bdad-82a603adbf8f",
   "metadata": {},
   "outputs": [],
   "source": [
    "// comment\n",
    "// this is something else\n",
    "// this is something descriptive about something\n",
    "\n",
    "/*\n",
    " *\n",
    " *\n",
    " * this is a huge comment that spans\n",
    " * multiple lines and should be used\n",
    " * if the comment is very long\n",
    " *\n",
    " */"
   ]
  },
  {
   "cell_type": "code",
   "execution_count": 3,
   "id": "20f44060-3dfc-47b4-a401-fb9a2d7a6d81",
   "metadata": {},
   "outputs": [
    {
     "name": "stdout",
     "output_type": "stream",
     "text": [
      "Hello World!\n",
      "123\n",
      "Address: 123 Somewhere Dr, Halifax, N.S.\n",
      "\u001b[33m123\u001b[39m\n",
      "Hello\n",
      "World\n"
     ]
    }
   ],
   "source": [
    "// console.log - to display information to the console\n",
    "// any information that helps troubleshoot your programs\n",
    "\n",
    "// simple output\n",
    "console.log(\"Hello World!\");\n",
    "console.log(\"123\");\n",
    "// text inside quotation marks is called a \"string\"\n",
    "console.log(\"Address: 123 Somewhere Dr, Halifax, N.S.\");\n",
    "// integers are types of data that you can do math on\n",
    "console.log(123);\n",
    "// there are some special \"characters\" that perform different actions\n",
    "console.log(\"Hello\\nWorld\");"
   ]
  },
  {
   "cell_type": "code",
   "execution_count": 4,
   "id": "1a163dab-983f-4605-a904-90337160e19f",
   "metadata": {},
   "outputs": [
    {
     "name": "stdin",
     "output_type": "stream",
     "text": [
      "What day of the week is it? Friday\n"
     ]
    },
    {
     "data": {
      "text/plain": [
       "\u001b[32m\"Friday\"\u001b[39m"
      ]
     },
     "execution_count": 4,
     "metadata": {},
     "output_type": "execute_result"
    }
   ],
   "source": [
    "// prompt - used to get input from the user\n",
    "// allows the user to enter in answers to questions\n",
    "// e.g. what day of the week is it? Friday\n",
    "prompt(\"What day of the week is it?\")"
   ]
  },
  {
   "cell_type": "code",
   "execution_count": 5,
   "id": "a5d2dc2c-2477-492f-b027-f7c43ae2ec6a",
   "metadata": {},
   "outputs": [],
   "source": [
    "// variables\n",
    "let name;\n",
    "// naming convention - \"camelCasing\"\n",
    "let dayOfWeek;\n",
    "let happiestDay;\n",
    "let endOfWeek;\n",
    "// bad names for variables\n",
    "let XXXXX_____YYYYY_asdasdasd; // day of the week\n",
    "//let my Name; // invalid name - spaces are not allowed\n",
    "//let 123; // invalid name - can't be all numbers\n",
    "//let :); // invalid name - can only use alphanumeric characters or the underscore"
   ]
  },
  {
   "cell_type": "code",
   "execution_count": 8,
   "id": "b9c497e1-e7ef-4ee2-a3a2-39297a107df6",
   "metadata": {},
   "outputs": [
    {
     "name": "stdin",
     "output_type": "stream",
     "text": [
      "What is the day of the week? Friday\n"
     ]
    },
    {
     "name": "stdout",
     "output_type": "stream",
     "text": [
      "The day of the week is  Friday\n"
     ]
    }
   ],
   "source": [
    "let dayOfWeek = prompt(\"What is the day of the week?\");\n",
    "console.log(\"The day of the week is\", dayOfWeek);"
   ]
  },
  {
   "cell_type": "code",
   "execution_count": 13,
   "id": "8b9b6ab7-5368-4594-a146-63cacb7a00be",
   "metadata": {},
   "outputs": [
    {
     "name": "stdout",
     "output_type": "stream",
     "text": [
      "12345\n",
      "\u001b[33m12345\u001b[39m\n",
      "Data: \u001b[33m12345\u001b[39m 12345 \u001b[33m12.34\u001b[39m\n",
      "Price = $12.34\n"
     ]
    }
   ],
   "source": [
    "// other uses of variables\n",
    "let myNumber = 12345; // integer\n",
    "let myString = \"12345\"; // string\n",
    "console.log(myString);\n",
    "console.log(myNumber);\n",
    "let myDecimal = 12.34; // floating point\n",
    "console.log(\"Data:\", myNumber, myString, myDecimal);\n",
    "console.log(`Price = $${myDecimal}`);"
   ]
  },
  {
   "cell_type": "code",
   "execution_count": 14,
   "id": "754300d8-fc13-4c65-ac14-3ceac3d45970",
   "metadata": {},
   "outputs": [
    {
     "ename": "ReferenceError",
     "evalue": "notAVariable is not defined",
     "output_type": "error",
     "traceback": [
      "Stack trace:",
      "ReferenceError: notAVariable is not defined",
      "    at <anonymous>:2:13"
     ]
    }
   ],
   "source": [
    "// what if a variable is not \"declared\"?\n",
    "console.log(notAVariable);"
   ]
  },
  {
   "cell_type": "code",
   "execution_count": 15,
   "id": "3ba45230-d78b-4c72-8a2f-6dbe3ad5e888",
   "metadata": {},
   "outputs": [
    {
     "name": "stdout",
     "output_type": "stream",
     "text": [
      "September \u001b[33m19\u001b[39m \u001b[33m2025\u001b[39m\n"
     ]
    }
   ],
   "source": [
    "// Create a script that creates three variables to hold the current day, month and year. \n",
    "// Display the current date using those variables nicely formatted.\n",
    "let day = 19;\n",
    "let month = \"September\";\n",
    "let year = 2025;\n",
    "console.log(month, day, year);"
   ]
  },
  {
   "cell_type": "code",
   "execution_count": 16,
   "id": "feede323-f8f4-45ec-81fd-72e48f88d62a",
   "metadata": {},
   "outputs": [
    {
     "name": "stdin",
     "output_type": "stream",
     "text": [
      "Enter your first name: brian\n",
      "Enter your last name: shewan\n"
     ]
    },
    {
     "name": "stdout",
     "output_type": "stream",
     "text": [
      "brian.shewan@nscc.ca\n"
     ]
    }
   ],
   "source": [
    "// Create a script that asks the user's first name and last name, \n",
    "// then have the script output their email address in the format \n",
    "// `<first name>.<last name>@nscc.ca`\n",
    "let firstName = prompt(\"Enter your first name:\");\n",
    "let lastName = prompt(\"Enter your last name:\");\n",
    "console.log(`${firstName}.${lastName}@nscc.ca`);"
   ]
  },
  {
   "cell_type": "code",
   "execution_count": null,
   "id": "7537d577-986a-4069-97c8-c01bfdf48213",
   "metadata": {},
   "outputs": [],
   "source": []
  }
 ],
 "metadata": {
  "kernelspec": {
   "display_name": "Deno",
   "language": "typescript",
   "name": "deno"
  },
  "language_info": {
   "codemirror_mode": "typescript",
   "file_extension": ".ts",
   "mimetype": "text/x.typescript",
   "name": "typescript",
   "nbconvert_exporter": "script",
   "pygments_lexer": "typescript",
   "version": "5.9.2"
  }
 },
 "nbformat": 4,
 "nbformat_minor": 5
}
