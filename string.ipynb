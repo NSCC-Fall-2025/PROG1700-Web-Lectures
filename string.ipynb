{
 "cells": [
  {
   "cell_type": "code",
   "execution_count": 1,
   "id": "56dd471a",
   "metadata": {},
   "outputs": [
    {
     "name": "stdout",
     "output_type": "stream",
     "text": [
      "apple\n"
     ]
    }
   ],
   "source": [
    "let str = \"apple\";\n",
    "\n",
    "console.log(str);"
   ]
  },
  {
   "cell_type": "code",
   "execution_count": null,
   "id": "92d093a9",
   "metadata": {},
   "outputs": [
    {
     "data": {
      "text/plain": [
       "\u001b[32m\"a\"\u001b[39m"
      ]
     },
     "execution_count": 2,
     "metadata": {},
     "output_type": "execute_result"
    }
   ],
   "source": [
    "let str = \"apple\";\n",
    "\n",
    "// you can use indices, like arrays\n",
    "str[0]"
   ]
  },
  {
   "cell_type": "code",
   "execution_count": 5,
   "id": "d34b0eb7",
   "metadata": {},
   "outputs": [
    {
     "name": "stdout",
     "output_type": "stream",
     "text": [
      "b\n",
      "a\n",
      "n\n",
      "a\n",
      "n\n",
      "a\n",
      "b\n",
      "a\n",
      "n\n",
      "a\n",
      "n\n",
      "a\n",
      "--------------------\n",
      "b\n",
      "a\n",
      "n\n",
      "a\n",
      "n\n",
      "a\n",
      "a\n",
      "n\n",
      "a\n",
      "n\n",
      "a\n",
      "b\n",
      "a\n",
      "n\n",
      "a\n",
      "n\n",
      "a\n",
      "--------------------\n",
      "b\n",
      "a\n",
      "n\n",
      "a\n",
      "n\n",
      "a\n"
     ]
    }
   ],
   "source": [
    "let str = \"banana\";\n",
    "\n",
    "// regular for loop\n",
    "for (let i = 0; i < 6; i++) {\n",
    "    console.log(str[i]);\n",
    "}\n",
    "\n",
    "// for loop with length\n",
    "for (let i = 0; i < str.length; i++) {\n",
    "    console.log(str[i]);\n",
    "}\n",
    "\n",
    "// of?\n",
    "console.log(\"-\".repeat(20));\n",
    "for (const ch of str) {\n",
    "    console.log(ch);\n",
    "}"
   ]
  },
  {
   "cell_type": "code",
   "execution_count": 7,
   "id": "fc742401",
   "metadata": {},
   "outputs": [
    {
     "name": "stdout",
     "output_type": "stream",
     "text": [
      "string\n",
      "string\n",
      "string\n",
      "string\n",
      "string\n",
      "string\n",
      "--------------------\n",
      "string\n",
      "string\n",
      "string\n",
      "string\n",
      "string\n",
      "string\n",
      "string\n",
      "string\n",
      "string\n",
      "string\n",
      "string\n",
      "--------------------\n",
      "string\n",
      "string\n",
      "string\n",
      "string\n",
      "string\n",
      "string\n"
     ]
    }
   ],
   "source": [
    "let str = \"banana\";\n",
    "\n",
    "// for loop with length\n",
    "for (let i = 0; i < str.length; i++) {\n",
    "    console.log(typeof str[i]);\n",
    "}\n",
    "\n",
    "// of?\n",
    "console.log(\"-\".repeat(20));\n",
    "for (const ch of str) {\n",
    "    console.log(typeof ch);\n",
    "}"
   ]
  },
  {
   "cell_type": "code",
   "execution_count": null,
   "id": "96f8daf0",
   "metadata": {},
   "outputs": [
    {
     "name": "stdout",
     "output_type": "stream",
     "text": [
      "banana\n",
      "split\n",
      "split\n"
     ]
    }
   ],
   "source": [
    "let str = \"banana-split\";\n",
    "\n",
    "// of? can be modified to break strings based on \"delimiters\"\n",
    "for (const ch of str.split('-')) {\n",
    "    console.log(ch);\n",
    "}"
   ]
  },
  {
   "cell_type": "code",
   "execution_count": 19,
   "id": "6a3e6fc7",
   "metadata": {},
   "outputs": [
    {
     "data": {
      "text/plain": [
       "\u001b[32m\"apple,banana,orange\"\u001b[39m"
      ]
     },
     "execution_count": 19,
     "metadata": {},
     "output_type": "execute_result"
    }
   ],
   "source": [
    "// changing arrays to strings\n",
    "let fruits = ['apple', 'banana', 'orange'];\n",
    "\n",
    "// convert to a single string\n",
    "fruits.join(' ** ');\n",
    "fruits.join(',');\n",
    "fruits.toString() // commonly used to add commas\n",
    "String(fruits)"
   ]
  },
  {
   "cell_type": "code",
   "execution_count": 20,
   "id": "94f9448e",
   "metadata": {},
   "outputs": [
    {
     "data": {
      "text/plain": [
       "[\n",
       "  \u001b[32m\"h\"\u001b[39m, \u001b[32m\"a\"\u001b[39m, \u001b[32m\"p\"\u001b[39m, \u001b[32m\"p\"\u001b[39m,\n",
       "  \u001b[32m\"y\"\u001b[39m, \u001b[32m\" \"\u001b[39m, \u001b[32m\"f\"\u001b[39m, \u001b[32m\"r\"\u001b[39m,\n",
       "  \u001b[32m\"i\"\u001b[39m, \u001b[32m\"d\"\u001b[39m, \u001b[32m\"a\"\u001b[39m, \u001b[32m\"y\"\u001b[39m\n",
       "]"
      ]
     },
     "execution_count": 20,
     "metadata": {},
     "output_type": "execute_result"
    }
   ],
   "source": [
    "// destructuring\n",
    "let str = \"happy friday\";\n",
    "[...str]"
   ]
  },
  {
   "cell_type": "code",
   "execution_count": 26,
   "id": "4adcd50b",
   "metadata": {},
   "outputs": [
    {
     "name": "stdout",
     "output_type": "stream",
     "text": [
      "5\n",
      "HELLO\n"
     ]
    },
    {
     "data": {
      "text/plain": [
       "\u001b[32m\"Smith\"\u001b[39m"
      ]
     },
     "execution_count": 26,
     "metadata": {},
     "output_type": "execute_result"
    }
   ],
   "source": [
    "// string functions\n",
    "let str = \"hello\";\n",
    "console.log(str.length);\n",
    "console.log(str.toUpperCase());\n",
    "\n",
    "let fullname = \"John Smith\";\n",
    "fullname.split(' ');\n",
    "fullname.slice(0, 4);\n",
    "fullname.substring(5);"
   ]
  },
  {
   "cell_type": "code",
   "execution_count": 29,
   "id": "60c2a590",
   "metadata": {},
   "outputs": [
    {
     "data": {
      "text/plain": [
       "\u001b[32m\"A\"\u001b[39m"
      ]
     },
     "execution_count": 29,
     "metadata": {},
     "output_type": "execute_result"
    }
   ],
   "source": [
    "// ASCII\n",
    "\"A\".charCodeAt(0)\n",
    "String.fromCharCode(65);"
   ]
  },
  {
   "cell_type": "code",
   "execution_count": 34,
   "id": "1a56df48",
   "metadata": {},
   "outputs": [
    {
     "data": {
      "text/plain": [
       "\u001b[32m\"jello\"\u001b[39m"
      ]
     },
     "execution_count": 34,
     "metadata": {},
     "output_type": "execute_result"
    }
   ],
   "source": [
    "// strings are \"immutable\"\n",
    "\n",
    "// arrays are \"mutable\"\n",
    "let a = ['h', 'e', 'l', 'l', 'o'];\n",
    "a[0] = 'j';\n",
    "\n",
    "let s = \"hello\";\n",
    "// s[0] = 'j';\n",
    "'j' + s.substring(1);\n",
    "\n",
    "// convert to array\n",
    "let hello = \"hello\".split('');\n",
    "hello[0] = 'j';\n",
    "hello.join('')"
   ]
  },
  {
   "cell_type": "code",
   "execution_count": null,
   "id": "de1ea0bc",
   "metadata": {},
   "outputs": [],
   "source": []
  }
 ],
 "metadata": {
  "kernelspec": {
   "display_name": "Deno",
   "language": "typescript",
   "name": "deno"
  },
  "language_info": {
   "codemirror_mode": "typescript",
   "file_extension": ".ts",
   "mimetype": "text/x.typescript",
   "name": "typescript",
   "nbconvert_exporter": "script",
   "pygments_lexer": "typescript",
   "version": "5.9.2"
  }
 },
 "nbformat": 4,
 "nbformat_minor": 5
}
