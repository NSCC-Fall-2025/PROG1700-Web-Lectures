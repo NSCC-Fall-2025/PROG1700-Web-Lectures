{
 "cells": [
  {
   "cell_type": "code",
   "execution_count": null,
   "id": "3c132996",
   "metadata": {},
   "outputs": [
    {
     "name": "stdout",
     "output_type": "stream",
     "text": [
      "name = John, age = 20, city = Halifax\n"
     ]
    }
   ],
   "source": [
    "// arrays are great!\n",
    "let info = [\"John\", 20, \"Halifax\"];\n",
    "\n",
    "let [name, age, city] = info;\n",
    "\n",
    "console.log(`name = ${name}, age = ${age}, city = ${city}`);\n",
    "\n",
    "// the downside, you have to remember the order matters"
   ]
  },
  {
   "cell_type": "code",
   "execution_count": 5,
   "id": "35df8358",
   "metadata": {},
   "outputs": [
    {
     "name": "stdout",
     "output_type": "stream",
     "text": [
      "name = John, age = 20, city = Halifax\n"
     ]
    },
    {
     "data": {
      "text/plain": [
       "\u001b[32m\"John\"\u001b[39m"
      ]
     },
     "execution_count": 5,
     "metadata": {},
     "output_type": "execute_result"
    }
   ],
   "source": [
    "// dictionaries can be better\n",
    "// a.k.a. hash tables or objects\n",
    "\n",
    "let info = {\n",
    "    \"first name\": \"John\", // specified as a \"key value\" pair\n",
    "    \"age\": 20,\n",
    "    \"city\": \"Halifax\"\n",
    "};\n",
    "\n",
    "console.log(`name = ${info['first name']}, age = ${info['age']}, city = ${info['city']}`);\n",
    "\n",
    "info['first name'] // this works!\n",
    "//info.first name  // doesn't work\n"
   ]
  },
  {
   "cell_type": "code",
   "execution_count": 6,
   "id": "b58ed3da",
   "metadata": {},
   "outputs": [
    {
     "name": "stdout",
     "output_type": "stream",
     "text": [
      "John\n",
      "20\n",
      "Halifax\n",
      "20\n",
      "Halifax\n"
     ]
    }
   ],
   "source": [
    "// how to iterate through dictionary values\n",
    "let info = {\n",
    "    \"first name\": \"John\", // specified as a \"key value\" pair\n",
    "    \"age\": 20,\n",
    "    \"city\": \"Halifax\"\n",
    "};\n",
    "\n",
    "for (const key in info) {\n",
    "    console.log(info[key]);\n",
    "}"
   ]
  },
  {
   "cell_type": "code",
   "execution_count": 7,
   "id": "ec1a46dc",
   "metadata": {},
   "outputs": [
    {
     "name": "stdout",
     "output_type": "stream",
     "text": [
      "John\n",
      "20\n",
      "Halifax\n",
      "Nova Scotia\n",
      "20\n",
      "Halifax\n",
      "Nova Scotia\n"
     ]
    }
   ],
   "source": [
    "// add items to a dictionary\n",
    "\n",
    "let info = {\n",
    "    \"first name\": \"John\", // specified as a \"key value\" pair\n",
    "    \"age\": 20,\n",
    "    \"city\": \"Halifax\"\n",
    "};\n",
    "\n",
    "info[\"prov\"] = \"Nova Scotia\";\n",
    "\n",
    "for (const key in info) {\n",
    "    console.log(info[key]);\n",
    "}"
   ]
  },
  {
   "cell_type": "code",
   "execution_count": 9,
   "id": "2c5b4521",
   "metadata": {},
   "outputs": [
    {
     "name": "stdout",
     "output_type": "stream",
     "text": [
      "John\n",
      "Halifax\n",
      "{ \"first name\": \"John\", city: \"Halifax\" }\n",
      "Halifax\n",
      "{ \"first name\": \"John\", city: \"Halifax\" }\n"
     ]
    }
   ],
   "source": [
    "// remove items from a dictionary\n",
    "\n",
    "let info = {\n",
    "    \"first name\": \"John\", // specified as a \"key value\" pair\n",
    "    \"age\": 20,\n",
    "    \"city\": \"Halifax\"\n",
    "};\n",
    "\n",
    "delete info.age;\n",
    "\n",
    "for (const key in info) {\n",
    "    console.log(info[key]);\n",
    "}\n",
    "console.log(info);"
   ]
  },
  {
   "cell_type": "code",
   "execution_count": 14,
   "id": "9902a8c4",
   "metadata": {},
   "outputs": [
    {
     "name": "stdout",
     "output_type": "stream",
     "text": [
      "John\n",
      "20\n",
      "Halifax\n",
      "first name : John\n",
      "age : 20\n",
      "city : Halifax\n",
      "20\n",
      "Halifax\n",
      "first name : John\n",
      "age : 20\n",
      "city : Halifax\n"
     ]
    }
   ],
   "source": [
    "// dictionary functions\n",
    "let info = {\n",
    "    \"first name\": \"John\", // specified as a \"key value\" pair\n",
    "    \"age\": 20,\n",
    "    \"city\": \"Halifax\"\n",
    "};\n",
    "\n",
    "for (const key of Object.keys(info)) {\n",
    "    console.log(info[key]);\n",
    "}\n",
    "\n",
    "Object.values(info);\n",
    "\n",
    "for (const [key, value] of Object.entries(info)) {\n",
    "    console.log(`${key} : ${value}`);\n",
    "}"
   ]
  },
  {
   "cell_type": "code",
   "execution_count": null,
   "id": "0bbc2e47",
   "metadata": {},
   "outputs": [],
   "source": []
  }
 ],
 "metadata": {
  "kernelspec": {
   "display_name": "Deno",
   "language": "typescript",
   "name": "deno"
  },
  "language_info": {
   "codemirror_mode": "typescript",
   "file_extension": ".ts",
   "mimetype": "text/x.typescript",
   "name": "typescript",
   "nbconvert_exporter": "script",
   "pygments_lexer": "typescript",
   "version": "5.9.2"
  }
 },
 "nbformat": 4,
 "nbformat_minor": 5
}
