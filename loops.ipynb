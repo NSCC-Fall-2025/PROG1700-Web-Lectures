{
 "cells": [
  {
   "cell_type": "code",
   "execution_count": 1,
   "id": "04c2deb9-b81c-4a17-8030-ba71c3599dd2",
   "metadata": {},
   "outputs": [
    {
     "name": "stdout",
     "output_type": "stream",
     "text": [
      "Hello World!\n"
     ]
    }
   ],
   "source": [
    "console.log(\"Hello World!\")"
   ]
  },
  {
   "cell_type": "code",
   "execution_count": null,
   "id": "06bb4043-a2d6-4b58-bd2d-32c77971b1aa",
   "metadata": {
    "scrolled": true
   },
   "outputs": [],
   "source": [
    "// infinite loop!\n",
    "// please don't run!\n",
    "//while (true) {\n",
    "//    console.log(\"help!\");\n",
    "//}"
   ]
  },
  {
   "cell_type": "code",
   "execution_count": 1,
   "id": "0354f0d8-2a74-4de6-9801-2d0021e6fdb9",
   "metadata": {},
   "outputs": [
    {
     "name": "stdout",
     "output_type": "stream",
     "text": [
      "num = 0\n",
      "num = 1\n",
      "num = 2\n",
      "num = 3\n",
      "num = 4\n",
      "num = 5\n",
      "num = 6\n",
      "num = 7\n",
      "num = 8\n",
      "num = 9\n"
     ]
    },
    {
     "data": {
      "text/plain": [
       "\u001b[33m10\u001b[39m"
      ]
     },
     "execution_count": 1,
     "metadata": {},
     "output_type": "execute_result"
    }
   ],
   "source": [
    "// basic while loop\n",
    "let num = 0;\n",
    "while (num < 10) {\n",
    "    console.log(`num = ${num}`);\n",
    "    num = num + 1;\n",
    "}"
   ]
  },
  {
   "cell_type": "code",
   "execution_count": 3,
   "id": "f36ca009-28e6-4cee-b636-a8dacfcadadc",
   "metadata": {},
   "outputs": [
    {
     "name": "stdout",
     "output_type": "stream",
     "text": [
      "i = 0\n",
      "i = 1\n",
      "i = 2\n",
      "i = 3\n",
      "i = 4\n"
     ]
    }
   ],
   "source": [
    "// post-increment\n",
    "let i = 0;\n",
    "while (i < 5) {\n",
    "    console.log(`i = ${i++}`);\n",
    "}"
   ]
  },
  {
   "cell_type": "code",
   "execution_count": 4,
   "id": "4be4af10-740e-47ce-a8b9-57d17ae211ad",
   "metadata": {},
   "outputs": [
    {
     "name": "stdout",
     "output_type": "stream",
     "text": [
      "i = 1\n",
      "i = 2\n",
      "i = 3\n",
      "i = 4\n",
      "i = 5\n"
     ]
    }
   ],
   "source": [
    "// pre-increment\n",
    "let i = 0;\n",
    "while (i < 5) {\n",
    "    console.log(`i = ${++i}`);\n",
    "}"
   ]
  },
  {
   "cell_type": "code",
   "execution_count": 5,
   "id": "610d1b74-8a95-4011-8b0a-2804ca2ce22e",
   "metadata": {},
   "outputs": [
    {
     "name": "stdout",
     "output_type": "stream",
     "text": [
      "i = 0\n",
      "i = 1\n",
      "i = 2\n",
      "i = 3\n",
      "i = 4\n"
     ]
    },
    {
     "data": {
      "text/plain": [
       "\u001b[33m5\u001b[39m"
      ]
     },
     "execution_count": 5,
     "metadata": {},
     "output_type": "execute_result"
    }
   ],
   "source": [
    "// pre-increment\n",
    "let i = 0;\n",
    "while (i < 5) {\n",
    "    console.log(`i = ${i}`);\n",
    "    ++i;\n",
    "}"
   ]
  },
  {
   "cell_type": "code",
   "execution_count": 26,
   "id": "51fc596b-a3b1-46b7-91d6-5bc07923e305",
   "metadata": {},
   "outputs": [
    {
     "name": "stdout",
     "output_type": "stream",
     "text": [
      "Your age is 1\n"
     ]
    }
   ],
   "source": [
    "// more while examples\n",
    "\n",
    "// keep asking user to enter valid data\n",
    "\n",
    "let userInput = 1;\n",
    "while (userInput <= 0 || isNaN(userInput)) {\n",
    "    let rawInput = prompt(\"Enter your age: \");\n",
    "    //console.log(`rawInput = ${rawInput}`);\n",
    "    userInput = parseInt(rawInput);\n",
    "    //userInput = rawInput;\n",
    "    //console.log(`userInput = ${userInput}`);\n",
    "}\n",
    "console.log(`Your age is ${userInput}`);"
   ]
  },
  {
   "cell_type": "code",
   "execution_count": 27,
   "id": "4107f115-b4fd-435a-8dbc-7ef75c0ecd7f",
   "metadata": {},
   "outputs": [
    {
     "name": "stdin",
     "output_type": "stream",
     "text": [
      "Enter your age:  -1\n",
      "Enter your age:  0\n",
      "Enter your age:  32\n"
     ]
    },
    {
     "name": "stdout",
     "output_type": "stream",
     "text": [
      "Your age is 32\n"
     ]
    }
   ],
   "source": [
    "// do while example\n",
    "// keep asking user to enter valid data\n",
    "\n",
    "do {\n",
    "    let rawInput = prompt(\"Enter your age: \");\n",
    "    let userInput = parseInt(rawInput);\n",
    "} while (userInput <= 0 || isNaN(userInput))\n",
    "\n",
    "console.log(`Your age is ${userInput}`);"
   ]
  },
  {
   "cell_type": "code",
   "execution_count": 30,
   "id": "175109e0-4d91-4dcb-b551-79f2053be586",
   "metadata": {},
   "outputs": [
    {
     "name": "stdin",
     "output_type": "stream",
     "text": [
      "Enter password:  \n",
      "Enter password:  \n",
      "Enter password:  \n",
      "Enter password:  \n",
      "Enter password:  sdfsdf\n"
     ]
    },
    {
     "name": "stdout",
     "output_type": "stream",
     "text": [
      "num = 0\n",
      "num = 1\n",
      "num = 2\n",
      "num = 3\n",
      "num = 4\n"
     ]
    },
    {
     "name": "stdin",
     "output_type": "stream",
     "text": [
      "Enter a password:  dsfdsf\n"
     ]
    },
    {
     "data": {
      "text/plain": [
       "\u001b[33m0\u001b[39m"
      ]
     },
     "execution_count": 30,
     "metadata": {},
     "output_type": "execute_result"
    }
   ],
   "source": [
    "// while loops are \"all purpose\"\n",
    "\n",
    "// loop with a string\n",
    "let password = \"\";\n",
    "while (password === \"\") {\n",
    "    password = prompt(\"Enter password: \");\n",
    "}\n",
    "\n",
    "// loop with numbers\n",
    "let num = 0;\n",
    "while (num < 5) {\n",
    "    console.log(`num = ${num}`);\n",
    "    num++;\n",
    "}\n",
    "\n",
    "// really *any* decision that works in an 'if' statement\n",
    "let count = 0;\n",
    "password = \"\";\n",
    "do {\n",
    "    password = prompt(\"Enter a password: \");\n",
    "    count++;\n",
    "} while (password === \"\" && count < 3);"
   ]
  },
  {
   "cell_type": "code",
   "execution_count": 32,
   "id": "e50078c9-0f19-48ae-9d97-e4e760b46817",
   "metadata": {},
   "outputs": [
    {
     "name": "stdin",
     "output_type": "stream",
     "text": [
      "Enter a password:  \n",
      "Enter a password:  password\n"
     ]
    },
    {
     "data": {
      "text/plain": [
       "\u001b[33m1\u001b[39m"
      ]
     },
     "execution_count": 32,
     "metadata": {},
     "output_type": "execute_result"
    }
   ],
   "source": [
    "\n",
    "// really *any* decision that works in an 'if' statement\n",
    "let count = 0;\n",
    "password = \"\";\n",
    "do {\n",
    "    password = prompt(\"Enter a password: \");\n",
    "    count++;\n",
    "} while (password === \"\" && count < 3);"
   ]
  },
  {
   "cell_type": "code",
   "execution_count": 38,
   "id": "e73367f3-bdb8-4ff2-b17d-15d4a51350c6",
   "metadata": {},
   "outputs": [
    {
     "name": "stdout",
     "output_type": "stream",
     "text": [
      "i = 0\n",
      "i = 1\n",
      "i = 2\n",
      "i = 3\n",
      "i = 4\n"
     ]
    }
   ],
   "source": [
    "// for loop\n",
    "for (let i = 0; i < 5; ++i) {\n",
    "    console.log(`i = ${i}`);\n",
    "}"
   ]
  },
  {
   "cell_type": "code",
   "execution_count": 44,
   "id": "5da2cd0f-4d43-4d73-88df-a63d373e992d",
   "metadata": {},
   "outputs": [
    {
     "name": "stdout",
     "output_type": "stream",
     "text": [
      "first i = 0\n",
      "i = 0\n",
      "i = 1\n",
      "i = 2\n",
      "i = 3\n",
      "i = 4\n",
      "i = 5\n",
      "last i = 6\n"
     ]
    }
   ],
   "source": [
    "let i = 0;\n",
    "\n",
    "// do stuff with i here\n",
    "console.log(`first i = ${i}`);\n",
    "\n",
    "for (; ; ) {\n",
    "    if (i > 5) {\n",
    "        break; // force loop to end\n",
    "    }\n",
    "    console.log(`i = ${i}`);\n",
    "    i++;\n",
    "}\n",
    "\n",
    "console.log(`last i = ${i}`);\n"
   ]
  },
  {
   "cell_type": "code",
   "execution_count": 59,
   "id": "044748d7-e4fd-45b3-a3c2-deb88b8784c0",
   "metadata": {},
   "outputs": [
    {
     "name": "stdout",
     "output_type": "stream",
     "text": [
      "1 2 3 4 5 6 7 8 9 10 11 12 \n",
      "2 4 6 8 10 12 14 16 18 20 22 24 \n",
      "3 6 9 12 15 18 21 24 27 30 33 36 \n",
      "4 8 12 16 20 24 28 32 36 40 44 48 \n",
      "5 10 15 20 25 30 35 40 45 50 55 60 \n",
      "6 12 18 24 30 36 42 48 54 60 66 72 \n",
      "7 14 21 28 35 42 49 56 63 70 77 84 \n",
      "8 16 24 32 40 48 56 64 72 80 88 96 \n",
      "9 18 27 36 45 54 63 72 81 90 99 108 \n",
      "10 20 30 40 50 60 70 80 90 100 110 120 \n",
      "11 22 33 44 55 66 77 88 99 110 121 132 \n",
      "12 24 36 48 60 72 84 96 108 120 132 144 \n"
     ]
    }
   ],
   "source": [
    "// multiplication table\n",
    "\n",
    "for (let vertical = 1; vertical <= 12; vertical++) {\n",
    "    let line = \"\";\n",
    "    for (let horizontal = 1; horizontal <= 12; horizontal++) {\n",
    "        line += `${horizontal * vertical} `\n",
    "    }\n",
    "    console.log(line);\n",
    "}\n"
   ]
  },
  {
   "cell_type": "code",
   "execution_count": 50,
   "id": "772bfb76-b1bd-45d0-9506-8dc523b8be96",
   "metadata": {},
   "outputs": [
    {
     "name": "stdout",
     "output_type": "stream",
     "text": [
      "1: o\n",
      "2: oo\n",
      "3: ooo\n",
      "4: oooo\n",
      "5: ooooo\n",
      "6: oooooo\n"
     ]
    }
   ],
   "source": [
    "for (let lines = 1; lines <= 6; lines++) {\n",
    "    console.log(`${lines}: ` + \"o\".repeat(lines));\n",
    "}\n"
   ]
  },
  {
   "cell_type": "code",
   "execution_count": 57,
   "id": "dd23fb59-2ca8-4784-9cb9-5bbce589bbfb",
   "metadata": {},
   "outputs": [
    {
     "name": "stdout",
     "output_type": "stream",
     "text": [
      "1:      o\n",
      "2:     oo\n",
      "3:    ooo\n",
      "4:   oooo\n",
      "5:  ooooo\n",
      "6: oooooo\n"
     ]
    }
   ],
   "source": [
    "/*\n",
    "      o     - line 1\n",
    "     oo     - line 2\n",
    "    ooo     - ...\n",
    "   oooo\n",
    "  ooooo\n",
    " oooooo     - line 6\n",
    "*/\n",
    "for (let lines = 1; lines <= 6; lines++) {\n",
    "    console.log(`${lines}: ` + \" \".repeat(6 - lines) + \"o\".repeat(lines));\n",
    "}\n"
   ]
  },
  {
   "cell_type": "code",
   "execution_count": 1,
   "id": "33d5ba53-b62a-4b7d-bca5-83030d62e78f",
   "metadata": {},
   "outputs": [
    {
     "name": "stdout",
     "output_type": "stream",
     "text": [
      "0 1 2 3 4 \n"
     ]
    }
   ],
   "source": [
    "// for version\n",
    "let output = \"\";\n",
    "let sum = 0;\n",
    "for (let i = 0; i < 5; i++) {\n",
    "    output += `${i} `;\n",
    "    console.log(\"Hello\");\n",
    "    sum += i;\n",
    "}\n",
    "console.log(output);"
   ]
  },
  {
   "cell_type": "code",
   "execution_count": null,
   "id": "f5134113-435e-4667-a457-f457dc5e4858",
   "metadata": {},
   "outputs": [],
   "source": [
    "// while version\n",
    "let output = \"\";\n",
    "let sum = 0;\n",
    "let i = 0;\n",
    "while (i < 5) {\n",
    "    output = output + `${i} `;\n",
    "    console.log(\"hello\");\n",
    "    sum += i;\n",
    "    i++;\n",
    "}\n",
    "console.log(output);"
   ]
  }
 ],
 "metadata": {
  "kernelspec": {
   "display_name": "Deno",
   "language": "typescript",
   "name": "deno"
  },
  "language_info": {
   "codemirror_mode": "typescript",
   "file_extension": ".ts",
   "mimetype": "text/x.typescript",
   "name": "typescript",
   "nbconvert_exporter": "script",
   "pygments_lexer": "typescript",
   "version": "5.9.2"
  }
 },
 "nbformat": 4,
 "nbformat_minor": 5
}
