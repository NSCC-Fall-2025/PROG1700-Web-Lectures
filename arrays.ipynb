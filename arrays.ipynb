{
 "cells": [
  {
   "cell_type": "code",
   "execution_count": 1,
   "id": "0576cc45",
   "metadata": {},
   "outputs": [
    {
     "name": "stdout",
     "output_type": "stream",
     "text": [
      "Hello World!\n"
     ]
    }
   ],
   "source": [
    "console.log(\"Hello World!\")"
   ]
  },
  {
   "cell_type": "code",
   "execution_count": 1,
   "id": "9430fb2d",
   "metadata": {},
   "outputs": [
    {
     "name": "stdout",
     "output_type": "stream",
     "text": [
      "john\n",
      "jacob\n",
      "jingle\n",
      "hymer\n",
      "schmitt\n",
      "hello world\n",
      "jacob\n",
      "jingle\n",
      "hymer\n",
      "schmitt\n",
      "hello world\n"
     ]
    }
   ],
   "source": [
    "let username1 = \"john\";\n",
    "let username2 = \"jacob\";\n",
    "let username3 = \"jingle\";\n",
    "let username4 = \"hymer\";\n",
    "let username5 = \"schmitt\";\n",
    "\n",
    "for (let i = 1; i <= 5; i++) {\n",
    "    eval(`console.log(username${i});`);\n",
    "}\n",
    "\n",
    "eval(\"console\" + \".log(\" + \"'hel\" + \"lo \" + \"world');\")\n"
   ]
  },
  {
   "cell_type": "code",
   "execution_count": 10,
   "id": "5de438b6",
   "metadata": {},
   "outputs": [
    {
     "name": "stdout",
     "output_type": "stream",
     "text": [
      "john\n",
      "jacob\n",
      "jingle\n",
      "hymer\n",
      "schmitt\n",
      "john\n",
      "jacob\n",
      "jingle\n",
      "hymer\n",
      "schmitt\n",
      "john\n",
      "jacob\n",
      "jingle\n",
      "hymer\n",
      "schmitt\n",
      "jacob\n",
      "jingle\n",
      "hymer\n",
      "schmitt\n",
      "john\n",
      "jacob\n",
      "jingle\n",
      "hymer\n",
      "schmitt\n",
      "john\n",
      "jacob\n",
      "jingle\n",
      "hymer\n",
      "schmitt\n"
     ]
    }
   ],
   "source": [
    "// basic array\n",
    "// index           0        1         2        3          4\n",
    "let usernames = [\"john\", \"jacob\", \"jingle\", \"hymer\", \"schmitt\"]\n",
    "\n",
    "// works, but not ideal as I don't always know\n",
    "// how many items are in the array\n",
    "for (let i = 0; i < 5; i++) {\n",
    "    console.log(usernames[i]);\n",
    "}\n",
    "\n",
    "// better!\n",
    "for (let i = 0; i < usernames.length; i++) {\n",
    "    console.log(usernames[i]);\n",
    "}\n",
    "\n",
    "// best!\n",
    "for (const username of usernames) {\n",
    "    console.log(username);\n",
    "}\n",
    "\n"
   ]
  },
  {
   "cell_type": "code",
   "execution_count": 19,
   "id": "9ef826e9",
   "metadata": {},
   "outputs": [
    {
     "data": {
      "text/plain": [
       "[ \u001b[32m\"jane\"\u001b[39m, \u001b[32m\"jacob\"\u001b[39m, \u001b[32m\"jingle\"\u001b[39m, \u001b[32m\"hymer\"\u001b[39m, \u001b[32m\"schmitt\"\u001b[39m, \u001b[32m\"john\"\u001b[39m ]"
      ]
     },
     "execution_count": 19,
     "metadata": {},
     "output_type": "execute_result"
    }
   ],
   "source": [
    "let usernames = [\"john\", \"jacob\", \"jingle\", \"hymer\", \"schmitt\"];\n",
    "\n",
    "// modify a single element of the array\n",
    "usernames[0] = \"jane\";\n",
    "\n",
    "// add another name to the end of the array\n",
    "let length = usernames.push(\"john\");\n",
    "\n",
    "usernames"
   ]
  },
  {
   "cell_type": "code",
   "execution_count": 21,
   "id": "188b4a26",
   "metadata": {},
   "outputs": [
    {
     "data": {
      "text/plain": [
       "[ \u001b[32m\"jane\"\u001b[39m, \u001b[32m\"john\"\u001b[39m, \u001b[32m\"jacob\"\u001b[39m, \u001b[32m\"jingle\"\u001b[39m, \u001b[32m\"hymer\"\u001b[39m, \u001b[32m\"schmitt\"\u001b[39m ]"
      ]
     },
     "execution_count": 21,
     "metadata": {},
     "output_type": "execute_result"
    }
   ],
   "source": [
    "let usernames = [\"john\", \"jacob\", \"jingle\", \"hymer\", \"schmitt\"];\n",
    "\n",
    "// add to the beginning of the array\n",
    "usernames.unshift(\"jane\")\n",
    "\n",
    "usernames"
   ]
  },
  {
   "cell_type": "code",
   "execution_count": 28,
   "id": "105c76d6",
   "metadata": {},
   "outputs": [
    {
     "data": {
      "text/plain": [
       "[\n",
       "  \u001b[32m\"jill\"\u001b[39m,  \u001b[32m\"john\"\u001b[39m,\n",
       "  \u001b[32m\"jacob\"\u001b[39m, \u001b[32m\"jingle\"\u001b[39m,\n",
       "  \u001b[32m\"hymer\"\u001b[39m, \u001b[32m\"schmitt\"\u001b[39m,\n",
       "  \u001b[32m\"jane\"\u001b[39m,  \u001b[32m\"bob\"\u001b[39m\n",
       "]"
      ]
     },
     "execution_count": 28,
     "metadata": {},
     "output_type": "execute_result"
    }
   ],
   "source": [
    "let usernames = [\"john\", \"jacob\", \"jingle\", \"hymer\", \"schmitt\"];\n",
    "\n",
    "// destructuring\n",
    "let babynames = [\"jill\", ...usernames, \"jane\", \"bob\"]\n",
    "\n",
    "babynames"
   ]
  },
  {
   "cell_type": "code",
   "execution_count": 47,
   "id": "87e54045",
   "metadata": {},
   "outputs": [
    {
     "data": {
      "text/plain": [
       "[ \u001b[32m\"john\"\u001b[39m, \u001b[32m\"jacob\"\u001b[39m, \u001b[32m\"jill\"\u001b[39m, \u001b[32m\"jingle\"\u001b[39m, \u001b[32m\"hymer\"\u001b[39m, \u001b[32m\"schmitt\"\u001b[39m ]"
      ]
     },
     "execution_count": 47,
     "metadata": {},
     "output_type": "execute_result"
    }
   ],
   "source": [
    "let usernames = [\"john\", \"jacob\", \"jingle\", \"hymer\", \"schmitt\"];\n",
    "\n",
    "// slicing \n",
    "[...usernames.slice(0, 2), \"jill\", ...usernames.slice(2)]"
   ]
  },
  {
   "cell_type": "code",
   "execution_count": 50,
   "id": "8343d4f9",
   "metadata": {},
   "outputs": [
    {
     "data": {
      "text/plain": [
       "[ \u001b[32m\"john\"\u001b[39m, \u001b[32m\"jacob\"\u001b[39m, \u001b[32m\"jingle\"\u001b[39m, \u001b[32m\"hymer\"\u001b[39m ]"
      ]
     },
     "execution_count": 50,
     "metadata": {},
     "output_type": "execute_result"
    }
   ],
   "source": [
    "let usernames = [\"john\", \"jacob\", \"jingle\", \"hymer\", \"schmitt\"];\n",
    "\n",
    "// removes from the end of the array (also returns that item)\n",
    "usernames.pop()\n",
    "\n",
    "usernames"
   ]
  },
  {
   "cell_type": "code",
   "execution_count": null,
   "id": "726b99d8",
   "metadata": {},
   "outputs": [
    {
     "data": {
      "text/plain": [
       "[ \u001b[32m\"jacob\"\u001b[39m, \u001b[32m\"jingle\"\u001b[39m, \u001b[32m\"hymer\"\u001b[39m, \u001b[32m\"schmitt\"\u001b[39m ]"
      ]
     },
     "execution_count": 39,
     "metadata": {},
     "output_type": "execute_result"
    }
   ],
   "source": [
    "let usernames = [\"john\", \"jacob\", \"jingle\", \"hymer\", \"schmitt\"];\n",
    "\n",
    "// removes item from front of array\n",
    "usernames.shift()\n",
    "\n",
    "usernames"
   ]
  },
  {
   "cell_type": "code",
   "execution_count": null,
   "id": "389d2170",
   "metadata": {},
   "outputs": [
    {
     "data": {
      "text/plain": [
       "[ \u001b[32m\"jacob\"\u001b[39m, \u001b[32m\"jingle\"\u001b[39m, \u001b[32m\"hymer\"\u001b[39m ]"
      ]
     },
     "execution_count": 44,
     "metadata": {},
     "output_type": "execute_result"
    }
   ],
   "source": [
    "// negative indices -5      -4        -3       -2       -1\n",
    "let usernames = [\"john\", \"jacob\", \"jingle\", \"hymer\", \"schmitt\"];\n",
    "\n",
    "// using slicing to remove items\n",
    "let u = usernames.slice(1) // remove from the beginning\n",
    "u.slice(0, -1) // remove from the end\n"
   ]
  },
  {
   "cell_type": "code",
   "execution_count": null,
   "id": "c8fab3df",
   "metadata": {},
   "outputs": [
    {
     "data": {
      "text/plain": [
       "[ \u001b[32m\"john\"\u001b[39m, \u001b[32m\"jingle\"\u001b[39m, \u001b[32m\"hymer\"\u001b[39m, \u001b[32m\"schmitt\"\u001b[39m ]"
      ]
     },
     "execution_count": 53,
     "metadata": {},
     "output_type": "execute_result"
    }
   ],
   "source": [
    "let usernames = [\"john\", \"jacob\", \"jingle\", \"hymer\", \"schmitt\"];\n",
    "\n",
    "// using slicing to remove an element and creates a new array\n",
    "[...usernames.slice(0, 1), ...usernames.slice(2)]\n",
    "\n",
    "// using splicing to remove an element and modify the original array\n",
    "usernames.splice(1, 1)\n",
    "usernames"
   ]
  },
  {
   "cell_type": "code",
   "execution_count": null,
   "id": "e8ab5877",
   "metadata": {},
   "outputs": [
    {
     "data": {
      "text/plain": [
       "\u001b[33m1\u001b[39m"
      ]
     },
     "execution_count": 58,
     "metadata": {},
     "output_type": "execute_result"
    }
   ],
   "source": [
    "// find an item in the array\n",
    "let fruit = ['apple', 'banana', 'orange', 'grapefruit', 'watermelon']\n",
    "\n",
    "// locate position (index) of item\n",
    "fruit.indexOf('banana')\n",
    "// more powerful, but will be looked at later\n",
    "fruit.findIndex(f => f === 'banana')"
   ]
  },
  {
   "cell_type": "code",
   "execution_count": 69,
   "id": "b52bd69f",
   "metadata": {},
   "outputs": [
    {
     "data": {
      "text/plain": [
       "\u001b[33m4\u001b[39m"
      ]
     },
     "execution_count": 69,
     "metadata": {},
     "output_type": "execute_result"
    }
   ],
   "source": [
    "// arrays can contain any data type\n",
    "\n",
    "let nums = [1, 2, 3, 4, 5, 5]\n",
    "\n",
    "let decimals = [1.1, 2.2, 3.3, 4.4, 5.5, 1.1]\n",
    "\n",
    "let bools = [true, false, false, true, 1 < 5, 5 === 6]\n",
    "\n",
    "// even other arrays\n",
    "let mixed = [1, 1.1, true, \"string\", 1, 2.2, [1, 2, [4, 5, 6]]]\n",
    "\n",
    "mixed[6][2][0]"
   ]
  },
  {
   "cell_type": "code",
   "execution_count": 71,
   "id": "efac9d8c",
   "metadata": {},
   "outputs": [
    {
     "data": {
      "text/plain": [
       "\u001b[33m3\u001b[39m"
      ]
     },
     "execution_count": 71,
     "metadata": {},
     "output_type": "execute_result"
    }
   ],
   "source": [
    "// multi-dimensional arrays!\n",
    "\n",
    "let twoDimensional = [\n",
    "    [1, 2, 3], \n",
    "    [4, 5, 6]\n",
    "]\n",
    "\n",
    "twoDimensional[0][2]"
   ]
  },
  {
   "cell_type": "code",
   "execution_count": 93,
   "id": "bbd1fa8e",
   "metadata": {},
   "outputs": [
    {
     "name": "stdout",
     "output_type": "stream",
     "text": [
      "1 2 3 \n",
      "4 5 6 \n",
      "7 8 9 \n",
      "4 5 6 \n",
      "7 8 9 \n",
      "\n",
      "1 2 3 \n",
      "4 5 6 \n",
      "7 8 X \n"
     ]
    }
   ],
   "source": [
    "// tic tac toe\n",
    "let grid = [\n",
    "    ['1', '2', '3'],\n",
    "    ['4', '5', '6'],\n",
    "    ['7', '8', '9']\n",
    "]\n",
    "\n",
    "// draw grid\n",
    "for (const r of grid) {\n",
    "    let gridRow = \"\";\n",
    "    for (const c of r) {\n",
    "        gridRow += `${c} `;\n",
    "    }\n",
    "    console.log(gridRow);\n",
    "}\n",
    "\n",
    "// ask user for choice\n",
    "let choice = prompt(\"Enter choice (1-9): \");\n",
    "\n",
    "let row = Math.floor((choice - 1) / 3);\n",
    "let col = choice - row * 3 - 1;\n",
    "\n",
    "grid[row][col] = 'X';\n",
    "\n",
    "// draw grid\n",
    "console.log();\n",
    "for (const r of grid) {\n",
    "    let gridRow = \"\";\n",
    "    for (const c of r) {\n",
    "        gridRow += `${c} `;\n",
    "    }\n",
    "    console.log(gridRow);\n",
    "}\n"
   ]
  },
  {
   "cell_type": "code",
   "execution_count": 7,
   "id": "d30b9781",
   "metadata": {},
   "outputs": [
    {
     "name": "stdout",
     "output_type": "stream",
     "text": [
      "[ \"1\", \"2\", \"3\" ]\n",
      "1\n",
      "2\n",
      "3\n",
      "[ \"4\", \"5\", \"6\" ]\n",
      "4\n",
      "5\n",
      "6\n",
      "[ \"7\", \"8\", \"9\" ]\n",
      "7\n",
      "8\n",
      "9\n",
      "1\n",
      "2\n",
      "3\n",
      "[ \"4\", \"5\", \"6\" ]\n",
      "4\n",
      "5\n",
      "6\n",
      "[ \"7\", \"8\", \"9\" ]\n",
      "7\n",
      "8\n",
      "9\n"
     ]
    }
   ],
   "source": [
    "// tic tac toe\n",
    "let grid = [\n",
    "    ['1', '2', '3'],\n",
    "    ['4', '5', '6'],\n",
    "    ['7', '8', '9']\n",
    "]\n",
    "\n",
    "for (const row of grid) {\n",
    "    console.log(row);\n",
    "    for (const col of row) {\n",
    "        console.log(col);\n",
    "    }\n",
    "}"
   ]
  },
  {
   "cell_type": "code",
   "execution_count": 14,
   "id": "050ee870",
   "metadata": {},
   "outputs": [
    {
     "name": "stdout",
     "output_type": "stream",
     "text": [
      "[\n",
      "  0, 1, 2, 3,\n",
      "  6, 7, 4, 5\n",
      "]\n",
      "a = 1, b = 2, c = 3\n",
      "[ 6, 7 ]\n",
      "a = 1, b = 2, c = 3\n",
      "[ 6, 7 ]\n"
     ]
    }
   ],
   "source": [
    "// destructuring\n",
    "let nums = [1, 2, 3, 6, 7];\n",
    "\n",
    "// make different arrays\n",
    "console.log([0, ...nums, 4, 5]);\n",
    "\n",
    "// break into separate variables\n",
    "let [a, b, c] = nums;\n",
    "console.log(`a = ${a}, b = ${b}, c = ${c}`);\n",
    "\n",
    "// include remaining in a new array\n",
    "let [apple, banana, cumquat, ...rest] = nums;\n",
    "console.log(rest);"
   ]
  },
  {
   "cell_type": "code",
   "execution_count": null,
   "id": "7d8cbb29",
   "metadata": {},
   "outputs": [],
   "source": []
  }
 ],
 "metadata": {
  "kernelspec": {
   "display_name": "Deno",
   "language": "typescript",
   "name": "deno"
  },
  "language_info": {
   "codemirror_mode": "typescript",
   "file_extension": ".ts",
   "mimetype": "text/x.typescript",
   "name": "typescript",
   "nbconvert_exporter": "script",
   "pygments_lexer": "typescript",
   "version": "5.9.2"
  }
 },
 "nbformat": 4,
 "nbformat_minor": 5
}
