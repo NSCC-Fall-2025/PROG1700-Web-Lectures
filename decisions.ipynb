{
 "cells": [
  {
   "cell_type": "code",
   "execution_count": 1,
   "id": "526f8613-a257-4f5e-90a4-8c5608fe1ef9",
   "metadata": {},
   "outputs": [
    {
     "name": "stdout",
     "output_type": "stream",
     "text": [
      "Hello World!\n"
     ]
    }
   ],
   "source": [
    "console.log(\"Hello World!\")"
   ]
  },
  {
   "cell_type": "code",
   "execution_count": 4,
   "id": "282bb161-2a07-4d0b-ade0-9f92e6d642ba",
   "metadata": {},
   "outputs": [],
   "source": [
    "// declare a boolean value\n",
    "let isSunny = true;\n",
    "let isRaining = false;\n",
    "let isSunny2: boolean = true;\n",
    "let isRaining2: boolean = false;"
   ]
  },
  {
   "cell_type": "code",
   "execution_count": 6,
   "id": "d0580aef-fd70-4da8-9fd4-92a94c562536",
   "metadata": {},
   "outputs": [],
   "source": [
    "// NOT a boolean value\n",
    "let notABoolean = \"true\";\n",
    "let alsoNotABoolean = 1;"
   ]
  },
  {
   "cell_type": "code",
   "execution_count": 11,
   "id": "3377db82-42c6-4ccb-a587-97737a713b74",
   "metadata": {},
   "outputs": [
    {
     "name": "stdout",
     "output_type": "stream",
     "text": [
      "\u001b[33mfalse\u001b[39m\n"
     ]
    }
   ],
   "source": [
    "// can make a boolean from other values\n",
    "let aBoolean = !!\"hello\";\n",
    "aBoolean = !!\"\";\n",
    "aBoolean = !!42;\n",
    "aBoolean = !!0;\n",
    "console.log(aBoolean);"
   ]
  },
  {
   "cell_type": "code",
   "execution_count": 1,
   "id": "b7af72a3-8208-45f2-b5f6-158daf5339fa",
   "metadata": {},
   "outputs": [
    {
     "data": {
      "text/plain": [
       "\u001b[33mtrue\u001b[39m"
      ]
     },
     "execution_count": 1,
     "metadata": {},
     "output_type": "execute_result"
    }
   ],
   "source": [
    "// comparisons\n",
    "1 < 2 // less than\n",
    "1 > 2 // greater than\n",
    "let a = 1;\n",
    "let b = 2;\n",
    "a >= b // greater than or equals\n",
    "a <= b // less than or equals\n",
    "a === b // equals\n",
    "a !== b"
   ]
  },
  {
   "cell_type": "code",
   "execution_count": 20,
   "id": "bddd15bf-9823-48fb-8348-8b6829620310",
   "metadata": {},
   "outputs": [
    {
     "data": {
      "text/plain": [
       "\u001b[33mfalse\u001b[39m"
      ]
     },
     "execution_count": 20,
     "metadata": {},
     "output_type": "execute_result"
    }
   ],
   "source": [
    "// compare strings\n",
    "\"abc\" === \"123\"\n",
    "\"abc\" === \"abc\"\n",
    "\"apple\" < \"banana\"\n",
    "\"apple\" < \"applesauce\"\n",
    "\"apple\" < \"APPLE\""
   ]
  },
  {
   "cell_type": "code",
   "execution_count": 23,
   "id": "48b259d1-31ef-4eea-8426-c8a20ee4b115",
   "metadata": {},
   "outputs": [
    {
     "data": {
      "text/plain": [
       "\u001b[33mtrue\u001b[39m"
      ]
     },
     "execution_count": 23,
     "metadata": {},
     "output_type": "execute_result"
    }
   ],
   "source": [
    "// case-sensitive comparisons\n",
    "\"apple\" === \"APPLE\".toLowerCase()\n",
    "\"apple\".toUpperCase() === \"APPLE\""
   ]
  },
  {
   "cell_type": "code",
   "execution_count": 38,
   "id": "9c29b929-0f68-48f8-af19-0f6f8c221166",
   "metadata": {},
   "outputs": [
    {
     "data": {
      "text/plain": [
       "\u001b[33mfalse\u001b[39m"
      ]
     },
     "execution_count": 38,
     "metadata": {},
     "output_type": "execute_result"
    }
   ],
   "source": [
    "// comparing different data types\n",
    "12 === 12.0\n",
    "true === !false\n",
    "0 == false\n",
    "1 === true"
   ]
  },
  {
   "cell_type": "code",
   "execution_count": 42,
   "id": "c2439509-7dd4-4422-89a1-acd50b7ef03b",
   "metadata": {},
   "outputs": [
    {
     "data": {
      "text/plain": [
       "\u001b[33mfalse\u001b[39m"
      ]
     },
     "execution_count": 42,
     "metadata": {},
     "output_type": "execute_result"
    }
   ],
   "source": [
    "// things as booleans\n",
    "Number(true)\n",
    "Number(false)\n",
    "Boolean(\"abc\") === true // do this!\n",
    "\"abc\" == true // don't do this...."
   ]
  },
  {
   "cell_type": "code",
   "execution_count": 47,
   "id": "00f40a97-a9b3-413b-ad1f-1da58f7f8270",
   "metadata": {},
   "outputs": [
    {
     "data": {
      "text/plain": [
       "\u001b[33m0.30000000000000004\u001b[39m"
      ]
     },
     "execution_count": 47,
     "metadata": {},
     "output_type": "execute_result"
    }
   ],
   "source": [
    "// float comparisons\n",
    "let answer = 1.4141414141414141414141414 // .... actual value\n",
    "Math.sqrt(2)\n",
    "123123123123123123123123123123123.123123\n",
    "answer === Math.sqrt(2) // don't use equals to compare decimals\n",
    "\n",
    "let a = 0.1;\n",
    "let b = 0.2;\n",
    "(a + b) === 0.3\n",
    "a + b"
   ]
  },
  {
   "cell_type": "code",
   "execution_count": 48,
   "id": "d5fcffa6-b4c3-45fd-b7f5-c1c62d70be8a",
   "metadata": {},
   "outputs": [
    {
     "data": {
      "text/plain": [
       "\u001b[33mtrue\u001b[39m"
      ]
     },
     "execution_count": 48,
     "metadata": {},
     "output_type": "execute_result"
    }
   ],
   "source": [
    "// compare variables\n",
    "let number1 = 0;\n",
    "let number2 = 1;\n",
    "number1 < number2"
   ]
  },
  {
   "cell_type": "code",
   "execution_count": 49,
   "id": "54803c23-189a-4f1c-95f9-00edf22770c5",
   "metadata": {},
   "outputs": [
    {
     "name": "stdout",
     "output_type": "stream",
     "text": [
      " !\"#$%&'()*+,-./0123456789:;<=>?@ABCDEFGHIJKLMNOPQRSTUVWXYZ[\\]^_`abcdefghijklmnopqrstuvwxyz{|}~\n"
     ]
    }
   ],
   "source": [
    "// ASCII - American Standard Code for Information Interchange\n",
    "console.log(Array.from({length: 95}, (_, i) => String.fromCharCode(i + 32)).join(''));"
   ]
  },
  {
   "cell_type": "code",
   "execution_count": 55,
   "id": "6d79e3de-31a3-48ba-939e-b497d92c66a7",
   "metadata": {},
   "outputs": [
    {
     "data": {
      "text/plain": [
       "\u001b[33mtrue\u001b[39m"
      ]
     },
     "execution_count": 55,
     "metadata": {},
     "output_type": "execute_result"
    }
   ],
   "source": [
    "\"A\" < \"z\"\n",
    "\"a\" < \"Z\"\n",
    "let ch = \"q\";\n",
    "ch >= \"a\"\n",
    "ch <= \"z\""
   ]
  },
  {
   "cell_type": "code",
   "execution_count": 62,
   "id": "a6658b2a-791c-44d0-befc-e31eb99c734a",
   "metadata": {},
   "outputs": [],
   "source": [
    "// basic if statement\n",
    "let num = 15;\n",
    "if (num < 10) {\n",
    "    console.log(\"your number is less than 10\"); // make sure to indent! (4 spaces)\n",
    "    console.log(\"***\");\n",
    "}"
   ]
  },
  {
   "cell_type": "code",
   "execution_count": 63,
   "id": "ee673915-14ed-4ff2-97a7-222bdcf6eae8",
   "metadata": {},
   "outputs": [
    {
     "name": "stdout",
     "output_type": "stream",
     "text": [
      ">= 10\n"
     ]
    }
   ],
   "source": [
    "// else statement\n",
    "let num = 15;\n",
    "if (num < 10) {\n",
    "    console.log(\"< 10\");\n",
    "} else {\n",
    "    console.log(\">= 10\");\n",
    "}"
   ]
  },
  {
   "cell_type": "code",
   "execution_count": 64,
   "id": "86a4964b-2d23-47b4-812e-983f5eb06189",
   "metadata": {},
   "outputs": [
    {
     "name": "stdout",
     "output_type": "stream",
     "text": [
      "<= 4\n"
     ]
    }
   ],
   "source": [
    "// else if statements\n",
    "let num = 3;\n",
    "if (num > 10) {\n",
    "    console.log(\"> 10\");\n",
    "} else if (num > 5) {\n",
    "    console.log(\"> 5\");\n",
    "} else if (num > 4) {\n",
    "    console.log(\"> 4\");\n",
    "} else {\n",
    "    console.log(\"<= 4\");\n",
    "}"
   ]
  },
  {
   "cell_type": "code",
   "execution_count": 3,
   "id": "29501bc2-a464-4964-8fc4-808fe41f957b",
   "metadata": {},
   "outputs": [
    {
     "name": "stdout",
     "output_type": "stream",
     "text": [
      "<=10\n",
      "<6\n",
      "<=0\n"
     ]
    }
   ],
   "source": [
    "// nested if statement\n",
    "let num = -5;\n",
    "if (num > 10) {\n",
    "    console.log(\">10\");\n",
    "} else {\n",
    "    console.log(\"<=10\");\n",
    "    if (num < 6) {\n",
    "        console.log(\"<6\");\n",
    "        if (num > 0) {\n",
    "            console.log(\">0\");\n",
    "        } else {\n",
    "            console.log(\"<=0\");\n",
    "        }\n",
    "    }\n",
    "}"
   ]
  },
  {
   "cell_type": "code",
   "execution_count": 15,
   "id": "bc543b79-a00a-4a68-8a9d-a7ec4fcb7b7e",
   "metadata": {},
   "outputs": [
    {
     "name": "stdout",
     "output_type": "stream",
     "text": [
      "green\n"
     ]
    }
   ],
   "source": [
    "// compound if statements\n",
    "\n",
    "// create a program that combines two primary colours into a secondary colour\n",
    "\n",
    "let colour1 = \"blue\";\n",
    "let colour2 = \"yellow\";\n",
    "\n",
    "if (colour1 === \"red\") {\n",
    "    if (colour2 === \"yellow\") {\n",
    "        console.log(\"orange\");\n",
    "    } else if (colour2 === \"blue\") {\n",
    "        console.log(\"violet\");\n",
    "    } else {\n",
    "        console.log(\"Invalid colour choice\");\n",
    "    }\n",
    "} else if (colour1 === \"yellow\") {\n",
    "    if (colour2 === \"blue\") {\n",
    "        console.log(\"green\");\n",
    "    } else if (colour2 === \"red\") {\n",
    "        console.log(\"orange\");\n",
    "    } else {\n",
    "        console.log(\"Invalid colour choice\");\n",
    "    } \n",
    "} else if (colour1 === \"blue\") {\n",
    "    if (colour2 === \"yellow\") {\n",
    "        console.log(\"green\");\n",
    "    } else if (colour2 === \"red\") {\n",
    "        console.log(\"violet\");\n",
    "    } else {\n",
    "        console.log(\"Invalid colour choice\");\n",
    "    } \n",
    "} else {\n",
    "    console.log(\"Invalid colour choice\");\n",
    "}"
   ]
  },
  {
   "cell_type": "code",
   "execution_count": 21,
   "id": "69d646cb-afa8-458e-a85f-575675e45d55",
   "metadata": {},
   "outputs": [
    {
     "name": "stdout",
     "output_type": "stream",
     "text": [
      "green\n"
     ]
    }
   ],
   "source": [
    "// create a program that combines two primary colours into a secondary colour\n",
    "\n",
    "let colour1 = \"blue\";\n",
    "let colour2 = \"yellow\";\n",
    "\n",
    "// put colours in correct order, if needed\n",
    "if (colour2 === \"red\" || colour1 === \"blue\") {\n",
    "    // swap colours\n",
    "    let tempColour = colour1;\n",
    "    colour1 = colour2;\n",
    "    colour2 = tempColour;\n",
    "}\n",
    "\n",
    "if (colour1 === \"red\" && colour2 === \"yellow\") {\n",
    "    console.log(\"orange\");\n",
    "} else if (colour1 === \"red\" && colour2 === \"blue\") {\n",
    "    console.log(\"violet\");\n",
    "} else if (colour1 === \"yellow\" && colour2 === \"blue\") {\n",
    "    console.log(\"green\");\n",
    "} else {\n",
    "    console.log(\"Invalid colour choice\");\n",
    "}"
   ]
  },
  {
   "cell_type": "code",
   "execution_count": 25,
   "id": "f97ce9e1-cc97-4f9c-89c6-bdf2f75b5a23",
   "metadata": {},
   "outputs": [
    {
     "name": "stdout",
     "output_type": "stream",
     "text": [
      "num1 = 2, num2 = 1\n"
     ]
    }
   ],
   "source": [
    "let num1 = 1;\n",
    "let num2 = 2;\n",
    "\n",
    "let temp = num1;\n",
    "num1 = num2;\n",
    "num2 = temp;\n",
    "\n",
    "console.log(`num1 = ${num1}, num2 = ${num2}`);"
   ]
  },
  {
   "cell_type": "code",
   "execution_count": 33,
   "id": "aac1f2bb-d67d-461f-99b0-5f72a5a5fa28",
   "metadata": {},
   "outputs": [
    {
     "name": "stdout",
     "output_type": "stream",
     "text": [
      "Hamburger it is.\n"
     ]
    }
   ],
   "source": [
    "// what do I want for lunch?\n",
    "\n",
    "let maxCalories = 500;\n",
    "let buffaloInStock = false;\n",
    "let grilledChickenInStock = false;\n",
    "let bltInStock = false;\n",
    "let italianInStock = true;\n",
    "\n",
    "// check subs for viable choice\n",
    "if (maxCalories > 630 && buffaloInStock) {\n",
    "    console.log(\"Buffalo Chicken Sub\");\n",
    "} else if (maxCalories > 370 && grilledChickenInStock) {\n",
    "    console.log(\"Grilled Chicken Sub\");\n",
    "} else if (maxCalories > 470 && bltInStock) {\n",
    "    console.log(\"BLT Sub!\");\n",
    "} else if (maxCalories > 1030 && italianInStock) {\n",
    "    console.log(\"Italian Sub\");\n",
    "} else {\n",
    "    console.log(\"Hamburger it is.\");\n",
    "}\n"
   ]
  },
  {
   "cell_type": "code",
   "execution_count": 42,
   "id": "c48beead-e4c5-4858-9d5b-5e1af5fc7a98",
   "metadata": {},
   "outputs": [
    {
     "name": "stdin",
     "output_type": "stream",
     "text": [
      "Enter first number:  2\n",
      "Enter second number:  3\n",
      "Enter operation (+, -, x, /):  /\n"
     ]
    },
    {
     "name": "stdout",
     "output_type": "stream",
     "text": [
      "2 / 3 = 0.6667\n"
     ]
    }
   ],
   "source": [
    "// a simple calculator\n",
    "\n",
    "// can perform simple functions\n",
    "// ask the user to enter in two numbers to perform function on\n",
    "\n",
    "let num1 = Number(prompt(\"Enter first number: \"));\n",
    "let num2 = Number(prompt(\"Enter second number: \"));\n",
    "let symbol = prompt(\"Enter operation (+, -, x, /): \");\n",
    "\n",
    "if (symbol === \"+\") {\n",
    "    let result = num1 + num2;\n",
    "    console.log(`${num1} + ${num2} = ${result}`);\n",
    "} else if (symbol === \"-\") {\n",
    "    let result = num1 - num2;\n",
    "    console.log(`${num1} - ${num2} = ${result}`);\n",
    "} else if (symbol === \"x\") {\n",
    "    let result = num1 * num2;\n",
    "    console.log(`${num1} x ${num2} = ${result}`);\n",
    "} else if (symbol === \"/\") {\n",
    "    let result = num1 / num2;\n",
    "    console.log(`${num1} / ${num2} = ${result.toFixed(4)}`);\n",
    "}"
   ]
  },
  {
   "cell_type": "code",
   "execution_count": null,
   "id": "997cffb5-54af-4ad5-abda-948e2829f7a6",
   "metadata": {},
   "outputs": [],
   "source": []
  }
 ],
 "metadata": {
  "kernelspec": {
   "display_name": "Deno",
   "language": "typescript",
   "name": "deno"
  },
  "language_info": {
   "codemirror_mode": "typescript",
   "file_extension": ".ts",
   "mimetype": "text/x.typescript",
   "name": "typescript",
   "nbconvert_exporter": "script",
   "pygments_lexer": "typescript",
   "version": "5.9.2"
  }
 },
 "nbformat": 4,
 "nbformat_minor": 5
}
